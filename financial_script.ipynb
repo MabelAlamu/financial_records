{
 "cells": [
  {
   "cell_type": "code",
   "execution_count": 91,
   "metadata": {},
   "outputs": [],
   "source": [
    "import os\n",
    "import csv\n",
    "import numpy as np"
   ]
  },
  {
   "cell_type": "code",
   "execution_count": 107,
   "metadata": {},
   "outputs": [
    {
     "name": "stdout",
     "output_type": "stream",
     "text": [
      "-2315.1176470588234\n"
     ]
    }
   ],
   "source": [
    "data= os.path.join(\"budget_data.csv\")\n",
    "\n",
    "with open(data) as file:\n",
    "    budget_data= csv.reader(file, delimiter=',')\n",
    "    csv_header= next(budget_data)\n",
    "    total_months = 0\n",
    "    total_PL= 0\n",
    "    profit_losses= []\n",
    "    pl_dates = []\n",
    "    \n",
    "    \n",
    "    for row in budget_data:\n",
    "    #calculating the net total amount of \"Profit/Losses\" over the entire period  \n",
    "        total_PL += int(row[1])\n",
    "        profit_losses.append(row[1])\n",
    "        \n",
    "    #calculating the total number of months included in the dataset\n",
    "        pl_dates.append(row[0])\n",
    "        total_months = len(pl_dates)\n",
    "\n",
    "    #calculating the changes in \"Profit/Losses\" over the entire period, then find the average of those changes\n",
    "    pl_changes=[]\n",
    "    for i in range(1, len(profit_losses)):\n",
    "        changes= int(profit_losses[i]) - int(profit_losses[i-1])\n",
    "        pl_changes.append(changes)\n",
    "    avg_pl_changes= np.mean(pl_changes)\n",
    "    \n",
    "    #calculating the greatest increase and decrease in profits (date and amount) over the entire period\n",
    "    max_pl= max(pl_changes)\n",
    "    max_pl_index= pl_changes.index(max_pl)\n",
    "    max_pl_date= pl_dates[max_pl_index + 1]\n",
    "    \n",
    "    min_pl= min(pl_changes)\n",
    "    min_pl_index= pl_changes.index(min_pl)\n",
    "    min_pl_date= pl_dates[min_pl_index + 1]"
   ]
  },
  {
   "cell_type": "code",
   "execution_count": 116,
   "metadata": {},
   "outputs": [
    {
     "name": "stdout",
     "output_type": "stream",
     "text": [
      "Financial Analysis\n",
      "----------------------------\n",
      "Total Months: 86\n",
      "Total: $38,382,578\n",
      "Average Change: $-2,315.12\n",
      "Greatest Increase in Profits: Feb-2012 ($1,926,159)\n",
      "Greatest Decrease in Profits: Sep-2013 ($-2,196,167)\n"
     ]
    }
   ],
   "source": [
    "print (f\"Financial Analysis\")\n",
    "print(f\"----------------------------\")\n",
    "print(f\"Total Months: {total_months}\")\n",
    "print(f\"Total: ${total_PL:,}\")\n",
    "print(f\"Average Change: ${round(avg_pl_changes,2):,}\")\n",
    "print(f\"Greatest Increase in Profits: {max_pl_date} (${max_pl:,})\")\n",
    "print(f\"Greatest Decrease in Profits: {min_pl_date} (${min_pl:,})\")"
   ]
  },
  {
   "cell_type": "code",
   "execution_count": 118,
   "metadata": {},
   "outputs": [],
   "source": [
    "output_path = os.path.join(\"financial_analysis.txt\")\n",
    "with open(output_path, 'w') as file:\n",
    "    file.write(f\"Financial Analysis\\n\")\n",
    "    file.write(f\"----------------------------\\n\")\n",
    "    file.write(f\"Total Months: {total_months}\\n\")\n",
    "    file.write(f\"Total: ${total_PL:,}\\n\")\n",
    "    file.write(f\"Average Change: ${round(avg_pl_changes,2):,}\\n\")\n",
    "    file.write(f\"Greatest Increase in Profits: {max_pl_date} (${max_pl:,})\\n\")\n",
    "    file.write(f\"Greatest Decrease in Profits: {min_pl_date} (${min_pl:,})\\n\")"
   ]
  },
  {
   "cell_type": "code",
   "execution_count": null,
   "metadata": {},
   "outputs": [],
   "source": []
  }
 ],
 "metadata": {
  "kernelspec": {
   "display_name": "Python 3",
   "language": "python",
   "name": "python3"
  },
  "language_info": {
   "codemirror_mode": {
    "name": "ipython",
    "version": 3
   },
   "file_extension": ".py",
   "mimetype": "text/x-python",
   "name": "python",
   "nbconvert_exporter": "python",
   "pygments_lexer": "ipython3",
   "version": "3.8.5"
  }
 },
 "nbformat": 4,
 "nbformat_minor": 4
}
