{
 "cells": [
  {
   "cell_type": "code",
   "execution_count": 2,
   "metadata": {},
   "outputs": [],
   "source": [
    "import os\n",
    "import csv\n",
    "\n",
    "data= os.path.join(\"PyBank_budget.csv\")\n",
    "\n",
    "with open(data) as csvfile:\n",
    "    csvreader= csv.reader(csvfile, delimiter=',')\n",
    "    csv_header= next(csvreader)\n",
    "    total_months= 0\n",
    "    total_PL= 0\n",
    "    for row in csvreader:\n",
    "        date = row[0]\n",
    "        profit_losses = row[1]\n",
    "        total_months += 1\n",
    "        total_PL += int(row[1])\n",
    "        \n",
    "    bank_data=[]\n",
    "    for row in csvreader:\n",
    "        profit_losses= row[1]\n",
    "        bank_data.append(profit_losses)\n",
    "        \n",
    "    for i in range(1, len(bank_data)):\n",
    "#calculating the difference between two consecutive rows\n",
    "        change= bank_data[i+1]- bank_data[i]\n",
    "        total_change += change\n",
    "        count +=1\n",
    "    \n",
    "#finding the average of those changes in \"Profit/Losses\" over the entire period\n",
    "        average= total_change/count\n",
    "        print (average)"
   ]
  },
  {
   "cell_type": "code",
   "execution_count": null,
   "metadata": {},
   "outputs": [],
   "source": [
    "count=0\n",
    "total_change= 0\n",
    "\n",
    "for i in range(1, len(bank_data)):\n",
    "#calculating the difference between two consecutive rows\n",
    "    change= bank_data[i+1]- bank_data[i]\n",
    "    total_change += change\n",
    "    count +=1\n",
    "    \n",
    "#finding the average of those changes in \"Profit/Losses\" over the entire period\n",
    "average= total_change/count\n",
    "print (average)"
   ]
  },
  {
   "cell_type": "code",
   "execution_count": null,
   "metadata": {},
   "outputs": [],
   "source": [
    "max_change= 0\n",
    "for i in range(1, len(bank_data)):\n",
    "#calculating the greatest increase in profits (date and amount) over the entire period\n",
    "    max_change= bank_data[i+1]- bank_data[i]\n",
    "    maxi= max_change\n",
    "    if max_chnage > maxi:\n",
    "        maxi= max_change\n",
    "#maxi_date= date[row[1].index(maxi)]"
   ]
  },
  {
   "cell_type": "code",
   "execution_count": null,
   "metadata": {},
   "outputs": [],
   "source": [
    "min_change= 0\n",
    "for i in range(1, len(bank_data)):\n",
    "#calculating the greatest decrease in losses (date and amount) over the entire period\n",
    "    min_change= bank_data[i+1]- bank_data[i]\n",
    "    mini= min_change\n",
    "    if min_chnage < mini:\n",
    "        mini= min_change\n",
    "#mini_date= date[row[1].index(mini)]"
   ]
  },
  {
   "cell_type": "code",
   "execution_count": null,
   "metadata": {},
   "outputs": [],
   "source": [
    "print(\"Financial Analysis\")\n",
    "print(\"-----------------------\")\n",
    "print(\"Total months: $\" + str(total_months))\n",
    "print(\"Average Change: \"+ str(total_PL))\n",
    "print(\"Greatest Increase in Profits: \"+ (maxi))\n",
    "print(\"Greatest Decrease in Profits: \"+ (mini))"
   ]
  },
  {
   "cell_type": "code",
   "execution_count": null,
   "metadata": {},
   "outputs": [],
   "source": [
    "output_file = os.path.join(\"./Analysis/Financial_Analysis.txt\")\n"
   ]
  }
 ],
 "metadata": {
  "kernelspec": {
   "display_name": "Python 3",
   "language": "python",
   "name": "python3"
  },
  "language_info": {
   "codemirror_mode": {
    "name": "ipython",
    "version": 3
   },
   "file_extension": ".py",
   "mimetype": "text/x-python",
   "name": "python",
   "nbconvert_exporter": "python",
   "pygments_lexer": "ipython3",
   "version": "3.8.5"
  }
 },
 "nbformat": 4,
 "nbformat_minor": 4
}
